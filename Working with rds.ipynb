{
 "cells": [
  {
   "cell_type": "code",
   "execution_count": 57,
   "metadata": {},
   "outputs": [],
   "source": [
    "import mysql.connector"
   ]
  },
  {
   "cell_type": "code",
   "execution_count": 48,
   "metadata": {},
   "outputs": [],
   "source": [
    "def create_connection():\n",
    "# Replace these variables with your actual AWS RDS MySQL database credentials\n",
    "    try:\n",
    "    # Establish a connection to the MySQL database on AWS RDS\n",
    "        conn = mysql.connector.connect(\n",
    "        host=\"Endpoint",\n",
    "        user=\"admin\",\n",
    "        password=\"password\",\n",
    "    )\n",
    "\n",
    "        if conn.is_connected():\n",
    "            print('Connected to MySQL database on AWS RDS')\n",
    "\n",
    "    except mysql.connector.Error as err:\n",
    "        if err.errno == mysql.connector.errorcode.ER_ACCESS_DENIED_ERROR:\n",
    "            print(\"Error: Access denied. Check your username and password.\")\n",
    "        elif err.errno == mysql.connector.errorcode.ER_BAD_DB_ERROR:\n",
    "            print(\"Error: The specified database does not exist.\")\n",
    "        else:\n",
    "            print(f\"Error: {err}\")\n",
    "    return conn"
   ]
  },
  {
   "cell_type": "code",
   "execution_count": 50,
   "metadata": {},
   "outputs": [
    {
     "name": "stdout",
     "output_type": "stream",
     "text": [
      "Connected to MySQL database on AWS RDS\n"
     ]
    }
   ],
   "source": [
    "conn = create_connection()"
   ]
  },
  {
   "cell_type": "code",
   "execution_count": 51,
   "metadata": {},
   "outputs": [],
   "source": [
    "def create_table(conn):\n",
    "    cursor = conn.cursor()\n",
    "    cursor.execute(\"CREATE TABLE IF NOT EXISTS sample (id INT AUTO_INCREMENT PRIMARY KEY, name VARCHAR(255), age INT)\")"
   ]
  },
  {
   "cell_type": "code",
   "execution_count": 52,
   "metadata": {},
   "outputs": [],
   "source": [
    "def insert_record(conn, name, age):\n",
    "    cursor = conn.cursor()\n",
    "    query = \"INSERT INTO sample (name, age) VALUES (%s, %s)\"\n",
    "    cursor.execute(query, (name, age))\n",
    "    conn.commit()"
   ]
  },
  {
   "cell_type": "code",
   "execution_count": 53,
   "metadata": {},
   "outputs": [],
   "source": [
    "def select_records(conn):\n",
    "    cursor = conn.cursor()\n",
    "    cursor.execute(\"SELECT * FROM sample\")\n",
    "    rows = cursor.fetchall()\n",
    "    for row in rows:\n",
    "        print(row)\n",
    "     "
   ]
  },
  {
   "cell_type": "code",
   "execution_count": 54,
   "metadata": {},
   "outputs": [],
   "source": [
    "\n",
    "# Delete a record\n",
    "def delete_record(conn, id):\n",
    "    cursor = conn.cursor()\n",
    "    query = \"DELETE FROM sample WHERE id = %s\"\n",
    "    cursor.execute(query, (id,))\n",
    "    conn.commit()\n",
    "     "
   ]
  },
  {
   "cell_type": "code",
   "execution_count": 56,
   "metadata": {},
   "outputs": [],
   "source": [
    "def close(conn):\n",
    "    conn.close()\n",
    "    conn.cursor.close()"
   ]
  }
 ],
 "metadata": {
  "kernelspec": {
   "display_name": "Python 3",
   "language": "python",
   "name": "python3"
  },
  "language_info": {
   "codemirror_mode": {
    "name": "ipython",
    "version": 3
   },
   "file_extension": ".py",
   "mimetype": "text/x-python",
   "name": "python",
   "nbconvert_exporter": "python",
   "pygments_lexer": "ipython3",
   "version": "3.11.5"
  }
 },
 "nbformat": 4,
 "nbformat_minor": 2
}
